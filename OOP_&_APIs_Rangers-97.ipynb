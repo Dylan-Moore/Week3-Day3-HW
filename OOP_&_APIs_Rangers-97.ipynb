{
 "cells": [
  {
   "cell_type": "markdown",
   "metadata": {},
   "source": [
    "# Object Oriented Programming 2 - examples and APIs\n"
   ]
  },
  {
   "cell_type": "markdown",
   "metadata": {},
   "source": [
    "## Tasks Today:\n",
    "\n",
    "   \n",
    "\n",
    "1) <b>Shopping Cart Example</b> <br>\n",
    "2) <b>Requests and the pokemon API </b> <br>\n",
    " "
   ]
  },
  {
   "cell_type": "markdown",
   "metadata": {},
   "source": [
    "# Goal \n",
    "### build a shopping cart program with prices and quantities using objects and a dictionary"
   ]
  },
  {
   "cell_type": "code",
   "execution_count": null,
   "metadata": {},
   "outputs": [],
   "source": [
    "from IPython.display import clear_output as clear\n",
    "# Create a class called cart that retains items and has methods to add, remove, and show\n",
    "\n",
    "#This class is only responsible for the cart object and the actions of the cart object\n",
    "class Cart():\n",
    "    def __init__(self):\n",
    "        self.items = {}\n",
    "        \n",
    "    def add_item(self):\n",
    "        clear()\n",
    "        new_item = input(\"What would you like to add? \")\n",
    "        print(new_item)\n",
    "        quantity = int(input(f\"How many of that {new_item} do you want? (insert a number)\" ))\n",
    "        if new_item not in self.items:\n",
    "            self.items[new_item] = quantity\n",
    "        \n",
    "        else:\n",
    "             self.items[new_item] += quantity\n",
    "        print(f\"{quantity} {new_item}(s) have been added to your cart!\")\n",
    "              \n",
    "    def remove_item(self):\n",
    "        clear()\n",
    "        discard = input(\"What would you like to remove? \")\n",
    "        print(discard)\n",
    "        quantity = int(input(\"How many would you like to remove? \"))\n",
    "        print(quantity)\n",
    "        try:\n",
    "            self.items[discard] -= quantity\n",
    "            if self.items[discard] <= 0:\n",
    "                del self.items[discard]\n",
    "            print(f\"{quantity} {discard}(s) have been removed\")\n",
    "        except:\n",
    "              print(f\"{discard} is not in your cart.\")\n",
    "        self.show()\n",
    "              \n",
    "    def show(self):\n",
    "        clear()\n",
    "        print(\"The following items are in your cart: \")\n",
    "        for item,quantity in self.items.items():\n",
    "            print(f\"{item} | quantity: {quantity}\")\n",
    "              \n",
    "    def checkout(self):\n",
    "        if not self.items:\n",
    "            print(\"Please buy something next time and get out of my store!\")\n",
    "        else:\n",
    "            print(\"Unexpected item in bagging area, please remove item or ask for assistance!\")\n",
    "            print(\"Thanks for shopping....\")\n",
    "            self.show()\n",
    "\n",
    "\n",
    "#control the logic and flow/operation of our program           \n",
    "class Main:\n",
    "    def showInstructions():\n",
    "        print(\"\"\"\n",
    "        Welcome to the Shopping Cart Program, can I take your order?\n",
    "        Here are your options:\n",
    "        [1] Show Currrent Cart\n",
    "        [2] Add Item\n",
    "        [3] Remove Item\n",
    "        [4] Show Instructions\n",
    "        [5] Quit\n",
    "        \"\"\")\n",
    "    #driver code - respsonsible for calling all methods from Cart class\n",
    "    def run(self):\n",
    "        Main.showInstructions()\n",
    "        my_cart = Cart()\n",
    "        \n",
    "        while True:\n",
    "            choice = input(\"What would you like to do? \")\n",
    "            if choice == \"1\":\n",
    "                if my_cart.items == {}:\n",
    "                    print(\"Your cart is empty... lets get shoppin'!\")\n",
    "                else:\n",
    "                    my_cart.show()\n",
    "            elif choice == \"2\":\n",
    "                my_cart.add_item()\n",
    "            elif choice == \"3\":\n",
    "                if my_cart.items == {}:\n",
    "                    print(\"Your cart is empty... please add something before removing.\")\n",
    "                else:\n",
    "                    my_cart.remove_item()\n",
    "            elif choice == \"4\":\n",
    "                Main.showInstructions()\n",
    "            elif choice == \"5\":\n",
    "                my_cart.checkout()\n",
    "                break\n",
    "            else:\n",
    "                print(\"Please enter a valid response and try again...\")\n",
    "                \n",
    "# Main.run()\n",
    "myCartProgram = Main()\n",
    "myCartProgram.run()\n",
    "        "
   ]
  },
  {
   "cell_type": "markdown",
   "metadata": {},
   "source": [
    "# working with APis"
   ]
  },
  {
   "cell_type": "markdown",
   "metadata": {},
   "source": [
    "<p> What exactly is an API? <br> <br>\n",
    "API is the acronym for Application Programming Interface, which is a software intermediary that allows two applications to talk to each other. Each time you use an app like Facebook, send an instant message, or check the weather on your phone, you're using an API. </p>"
   ]
  },
  {
   "cell_type": "markdown",
   "metadata": {},
   "source": [
    "### The Poke API  allows you to retreive a pokemon's information from PokeAPI https://pokeapi.co/\n",
    "\n"
   ]
  },
  {
   "cell_type": "code",
   "execution_count": null,
   "metadata": {},
   "outputs": [],
   "source": [
    "# making an API call\n",
    "import requests\n",
    "r = requests.get(\"https://pokeapi.co/api/v2/pokemon/alakazam\")\n",
    "if r.status_code == 200:\n",
    "    data = r.json()\n",
    "print(data.keys())"
   ]
  },
  {
   "cell_type": "markdown",
   "metadata": {},
   "source": [
    "### Display a Pokemon's name, weight, abilities, and types"
   ]
  },
  {
   "cell_type": "code",
   "execution_count": null,
   "metadata": {},
   "outputs": [],
   "source": [
    "# get the name\n",
    "name = data['name']\n",
    "print(name)\n"
   ]
  },
  {
   "cell_type": "code",
   "execution_count": null,
   "metadata": {},
   "outputs": [],
   "source": [
    "# get types\n",
    "type_ = data['types'][0]['type']['name']\n",
    "print(type_)\n",
    "\n",
    "types = [pokemon['type']['name'] for pokemon in data['types']]\n",
    "print(types)"
   ]
  },
  {
   "cell_type": "code",
   "execution_count": null,
   "metadata": {},
   "outputs": [],
   "source": [
    "# get weight\n",
    "weight = data['weight']\n",
    "print(weight)"
   ]
  },
  {
   "cell_type": "code",
   "execution_count": null,
   "metadata": {},
   "outputs": [],
   "source": [
    "# get abilities\n",
    "abilities = [ability['ability']['name'] for ability in data['abilities']]\n",
    "print(abilities)"
   ]
  },
  {
   "cell_type": "code",
   "execution_count": null,
   "metadata": {},
   "outputs": [],
   "source": [
    "# Create a structure for a single pokemon\n",
    "\n",
    "my_pokemon = {\n",
    "    'name':'',\n",
    "    'abilities' : [],\n",
    "    'weight' : 0\n",
    "    'types' : []\n",
    "}"
   ]
  },
  {
   "cell_type": "code",
   "execution_count": null,
   "metadata": {},
   "outputs": [],
   "source": [
    "alakazam = {\n",
    "    'name' : name,\n",
    "    'abilities': abilities,\n",
    "    'weight' : weight,\n",
    "    'types' : types\n",
    "}\n",
    "\n",
    "alakazam"
   ]
  },
  {
   "cell_type": "markdown",
   "metadata": {},
   "source": [
    "#### Create a function to Pull in your own Pokemon's data "
   ]
  },
  {
   "cell_type": "code",
   "execution_count": null,
   "metadata": {},
   "outputs": [],
   "source": [
    "import requests\n",
    "def poke_api_call(pokemon):\n",
    "    req = requests.get(f\"https://pokeapi.co/api/v2/pokemon/{pokemon}\")\n",
    "    if req.status_code == 200:\n",
    "        data = req.json()\n",
    "        name = data['name']\n",
    "        types = [type_['type']['name']for type_ in data['types']]\n",
    "        abilities = [ability['ability']['name']for ability in data['abilities']]\n",
    "        weight = data['weight']\n",
    "        \n",
    "        \n",
    "        poke = {\n",
    "            \"name\": name,\n",
    "            \"abilities\": abilities,\n",
    "            \"weight\": weight,\n",
    "            \"types\": types\n",
    "        }\n",
    "        return poke"
   ]
  },
  {
   "cell_type": "markdown",
   "metadata": {},
   "source": [
    "Choose your pokemon"
   ]
  },
  {
   "cell_type": "code",
   "execution_count": null,
   "metadata": {},
   "outputs": [],
   "source": [
    "from random import randint\n",
    "# Random number generated for each pokemon id\n",
    "random_team = [randint(1,898) for i in range(6)]\n",
    "print(random_team)\n",
    "\n",
    "your_team = ['electivire', 'tyranitar','lucario','volcarona','alakazam','aegislash-blade']\n"
   ]
  },
  {
   "cell_type": "markdown",
   "metadata": {},
   "source": [
    "#### Use your function to create a dictionary of your Johto League 6  (favorite 6 pokemon)"
   ]
  },
  {
   "cell_type": "code",
   "execution_count": null,
   "metadata": {},
   "outputs": [],
   "source": [
    "# Place all 6 of your pokemon on the object below, each pokemon should have at least as much info as Pikachu did.\n",
    "my_six_pokemon = {}\n",
    "for mon in your_team:\n",
    "    poke_stats = poke_api_call(mon)\n",
    "    my_six_pokemon[poke_stats['name'].title()] = poke_stats\n",
    "    \n",
    "my_six_pokemon"
   ]
  },
  {
   "cell_type": "markdown",
   "metadata": {},
   "source": [
    "## Lets create a class called 'Pokemon' and create our pokemon as instances"
   ]
  },
  {
   "cell_type": "code",
   "execution_count": null,
   "metadata": {},
   "outputs": [],
   "source": [
    "class Pokemon():\n",
    "    def __init__(self,name):\n",
    "        self.name = name\n",
    "        self.types = []\n",
    "        self.abilities = []\n",
    "        self.weight = 0\n",
    "        self.poke_api_call() #<---Calls poke_api_call when object is created\n",
    "        \n",
    "    def poke_api_call(self):\n",
    "        req = requests.get(f\"https://pokeapi.co/api/v2/pokemon/{self.name}\")\n",
    "        if req.status_code == 200:\n",
    "            data = req.json()\n",
    "            self.name = data['name']\n",
    "            self.types = [type_['type']['name']for type_ in data['types']]\n",
    "            self.abilities = [ability['ability']['name']for ability in data['abilities']]\n",
    "            self.weight = data['weight']\n",
    "            print(f\"{self.name} data has been updated!\")\n",
    "        else:\n",
    "            print(f\"Ran into an issue {req.status_code}\")\n",
    "            return\n",
    "                \n",
    "    def __repr__(self):\n",
    "        return f\"You caught a {self.name.title()}!\""
   ]
  },
  {
   "cell_type": "markdown",
   "metadata": {},
   "source": [
    "### Let's Catch some Pokemon"
   ]
  },
  {
   "cell_type": "code",
   "execution_count": null,
   "metadata": {},
   "outputs": [],
   "source": [
    "volcarona = Pokemon(\"volcarona\")\n",
    "print(volcarona.__dict__)"
   ]
  },
  {
   "cell_type": "code",
   "execution_count": null,
   "metadata": {},
   "outputs": [],
   "source": [
    "my_pokemon = ['electivire', 'tyranitar','lucario','volcarona','alakazam','aegislash-blade']\n",
    "pokedex = {}\n",
    "for mon in my_pokemon:\n",
    "    pokeball = Pokemon(mon)\n",
    "    pokedex[mon.title()]=pokeball.__dict__\n",
    "#     print(pokeball.abilities)\n",
    "print(pokedex.display())"
   ]
  },
  {
   "cell_type": "code",
   "execution_count": null,
   "metadata": {},
   "outputs": [],
   "source": [
    "print(volcarona.abilities)"
   ]
  },
  {
   "cell_type": "markdown",
   "metadata": {},
   "source": [
    "## Exercise 1:"
   ]
  },
  {
   "cell_type": "markdown",
   "metadata": {},
   "source": [
    "### Create a Method prints an image of your pokemon\n",
    "\n",
    "<p>HINT: You may need another attribute as well to store your image url within. </p>"
   ]
  },
  {
   "cell_type": "code",
   "execution_count": null,
   "metadata": {},
   "outputs": [],
   "source": [
    "# Display an image in Jupyter notebook\n",
    "from IPython.display import Image\n",
    "\n",
    "# display(Image( 'https://i.redd.it/45n4mhusa8l41.jpg', width = 300))\n",
    "display(Image('https://raw.githubusercontent.com/PokeAPI/sprites/master/sprites/pokemon/shiny/10026.png', width = 300))"
   ]
  },
  {
   "cell_type": "code",
   "execution_count": null,
   "metadata": {},
   "outputs": [],
   "source": [
    "# recreate your pokemon class here\n",
    "import requests\n",
    "class Pokemon():\n",
    "    def __init__(self,name):\n",
    "        self.name = name\n",
    "        self.types = []\n",
    "        self.abilities = []\n",
    "        self.weight = 0\n",
    "        self.image = None\n",
    "        self.poke_api_call() #<---Calls poke_api_call when object is created\n",
    "        self.display()\n",
    "        \n",
    "    def poke_api_call(self):\n",
    "        req = requests.get(f\"https://pokeapi.co/api/v2/pokemon/{self.name}\")\n",
    "        if req.status_code == 200:\n",
    "            data = req.json()\n",
    "            self.name = data['name']\n",
    "            self.types = [type_['type']['name']for type_ in data['types']]\n",
    "            self.abilities = [ability['ability']['name']for ability in data['abilities']]\n",
    "            self.weight = data['weight']\n",
    "            self.image = data['sprites']['front_shiny']\n",
    "            print(f\"{self.name} data has been updated!\")\n",
    "        else:\n",
    "            print(f\"Ran into an issue {req.status_code}\")\n",
    "            return\n",
    "      #display image method   \n",
    "    def display(self):\n",
    "        display(Image(url = self.image))\n",
    "    def __repr__(self):\n",
    "        return f\"You caught a {self.name.title()}!\"\n",
    "    "
   ]
  },
  {
   "cell_type": "code",
   "execution_count": null,
   "metadata": {},
   "outputs": [],
   "source": [
    "volcarona = Pokemon('volcarona')\n",
    "volcarona"
   ]
  },
  {
   "cell_type": "code",
   "execution_count": null,
   "metadata": {},
   "outputs": [],
   "source": [
    "# Calling our new method\n",
    "volcarona.display()"
   ]
  },
  {
   "cell_type": "markdown",
   "metadata": {},
   "source": [
    "## Exercise 2:"
   ]
  },
  {
   "cell_type": "markdown",
   "metadata": {},
   "source": [
    "### Create a Method that evolves your Pokemon\n",
    "If your pokemon can't evolve any further print a message that says \"\\<name of pokemon> can't evolve.\""
   ]
  },
  {
   "cell_type": "code",
   "execution_count": 3,
   "metadata": {},
   "outputs": [],
   "source": [
    "from time import sleep\n",
    "class Evolver:\n",
    "    def evolve(self):\n",
    "        #API call for pokemon's species\n",
    "        r = requests.get(f\"https://pokeapi.co/api/v2/pokemon-species/{self.name}\")\n",
    "        if r.status_code != 200:\n",
    "            print(f\"Species Status {r.status_code}\")\n",
    "            return\n",
    "        else:\n",
    "            pokemon_species = r.json()\n",
    "        #API call for evolutionary chain\n",
    "        r2 = requests.get(pokemon_species['evolution_chain']['url'])\n",
    "        if r2.status_code != 200:\n",
    "            print(f\"Evolution chain error {r2.status_code}\")\n",
    "            return\n",
    "        else:\n",
    "            ev_chain = r2.json()\n",
    "            ev_chain = ev_chain['chain']\n",
    "        \n",
    "        base_name = ev_chain[\"species\"][\"name\"]\n",
    "        evolution = ev_chain['evolves_to'][0]\n",
    "        evolution_name = evolution['species']['name']\n",
    "        #Check for Base Pokemon\n",
    "        if base_name == self.name:\n",
    "            pass\n",
    "        #2nd evolution\n",
    "        elif evolution_name == self.name:\n",
    "            evolution_name = evolution['evolves_to'][0]['species']['name']\n",
    "        #3rd evolution\n",
    "        else:\n",
    "            print(f\"You can't evolve your {self.name} anymore. \")\n",
    "            return\n",
    "            \n",
    "        print(\"......\")\n",
    "        sleep(1)\n",
    "        print(f\"Your {self.name} is evolving....\")\n",
    "        self.display()\n",
    "        sleep(1)\n",
    "        print(\".....\")\n",
    "        self.name = evolution_name\n",
    "        self.poke_api_call()\n",
    "        self.display()"
   ]
  },
  {
   "cell_type": "code",
   "execution_count": 4,
   "metadata": {},
   "outputs": [],
   "source": [
    "import requests\n",
    "class Pokemon(Evolver,Moves_tutor):\n",
    "    def __init__(self, name):\n",
    "        super().__init__\n",
    "        Moves_tutor.__init__(self)\n",
    "        self.name = name\n",
    "        self.types = []\n",
    "        self.abilities = []\n",
    "        self.weight = 0\n",
    "        self.image = None\n",
    "        self.poke_api_call() #<---Calls poke_api_call when object is created\n",
    "        self.display()\n",
    "        \n",
    "    def poke_api_call(self):\n",
    "        req = requests.get(f\"https://pokeapi.co/api/v2/pokemon/{self.name}\")\n",
    "        if req.status_code == 200:\n",
    "            data = req.json()\n",
    "            self.name = data['name']\n",
    "            self.types = [type_['type']['name']for type_ in data['types']]\n",
    "            self.abilities = [ability['ability']['name']for ability in data['abilities']]\n",
    "            self.weight = data['weight']\n",
    "            self.image = data['sprites']['front_shiny']\n",
    "            print(f\"{self.name} data has been updated!\")\n",
    "        else:\n",
    "            print(f\"Ran into an issue {req.status_code}\")\n",
    "            return\n",
    "      #display image method   \n",
    "    def display(self):\n",
    "        display(Image(url = self.image))\n",
    "    def __repr__(self):\n",
    "        return f\"You caught a {self.name.title()}!\"\n",
    "    \n"
   ]
  },
  {
   "cell_type": "markdown",
   "metadata": {},
   "source": [
    "Now let's evolve a few"
   ]
  },
  {
   "cell_type": "code",
   "execution_count": null,
   "metadata": {},
   "outputs": [],
   "source": [
    "dratini = Pokemon(\"dratini\")"
   ]
  },
  {
   "cell_type": "code",
   "execution_count": null,
   "metadata": {},
   "outputs": [],
   "source": [
    "dratini.evolve()"
   ]
  },
  {
   "cell_type": "markdown",
   "metadata": {},
   "source": [
    "#  Final Exercise: <br> <br>Create a Move_Tutor Class that will allow the Pokemon Class to inherit a move list.\n",
    "<br>\n",
    "<p>for an added bonus you can make sure that if a pokemon has 4 moves the user can choose one of them to replace with a new move. </p>"
   ]
  },
  {
   "cell_type": "code",
   "execution_count": 2,
   "metadata": {},
   "outputs": [
    {
     "data": {
      "image/png": "[encoded data removed]",
      "text/plain": [
       "<IPython.core.display.Image object>"
      ]
     },
     "metadata": {
      "image/png": {
       "width": 300
      }
     },
     "output_type": "display_data"
    }
   ],
   "source": [
    "from IPython.display import Image\n",
    "\n",
    "# display(Image( 'https://i.redd.it/45n4mhusa8l41.jpg', width = 300))\n",
    "display(Image('https://raw.githubusercontent.com/PokeAPI/sprites/master/sprites/pokemon/shiny/10026.png', width = 300))"
   ]
  },
  {
   "cell_type": "code",
   "execution_count": 1,
   "metadata": {},
   "outputs": [],
   "source": [
    "import requests\n",
    "#     def __init__(self):\n",
    "#         self.move_list = []\n",
    "#         len(self.move_list) = 4\n",
    "#         self.poke_api_call()\n",
    "#         self.image = None\n",
    "class Moves_tutor():\n",
    "    def __init__ (self):\n",
    "        self.poke_moves = []\n",
    "        self.learn_moves = []\n",
    "#         self.move_1()\n",
    "    def move_1(self):\n",
    "        r = requests.get(f\"https://pokeapi.co/api/v2/pokemon/{self.name}\")\n",
    "        if r.status_code != 200:\n",
    "            print(f\"move Status {r.status_code}\")\n",
    "            return\n",
    "        else:\n",
    "            data = r.json()\n",
    "            self.poke_moves = [moves['move']['name']for moves in data['moves']]\n",
    "    \n",
    "    def learned_move(self):\n",
    "            response = input(\"What move would you like to learn?\")\n",
    "            response = response.lower()\n",
    "            if response in self.poke_moves and len(self.learn_moves) < 4:\n",
    "                    self.learn_moves.append(response)\n",
    "                    print(self.learn_moves)\n",
    "            elif len(self.learn_moves) >= 4:\n",
    "                ask_1 = input(\"You already know 4 moves, would you like to forget one? \")\n",
    "                if ask_1 == \"yes\":\n",
    "                    print(self.learn_moves)\n",
    "                    ask_2 = input(\"Which move would you like to forget? type 'q' to back out\")\n",
    "                    if ask_2 == 'q':\n",
    "                        pass\n",
    "                    else:\n",
    "                        self.learn_moves.remove(ask_2)\n",
    "                        self.learn_moves.append(response)\n",
    "                        print(self.learn_moves)\n",
    "                else:\n",
    "                    print(\"Must have a good moveset!\")\n",
    "            else:\n",
    "                print(f\"Sorry {self.name} can't learn that move!\")\n",
    "\n",
    "\n",
    "def run():\n",
    "    Poke = input(\"What pokemon do you have? \").lower()\n",
    "#     Poke = Poke.lower()\n",
    "    my_pokemon = Pokemon(Poke)\n",
    "    while True:\n",
    "        question = input(\"Would you like to learn a move? \")\n",
    "        if question == \"yes\":\n",
    "            my_pokemon.move_1()\n",
    "            my_pokemon.learned_move()          \n",
    "        elif question == \"no\":\n",
    "            return\n",
    "        else:\n",
    "            print(\"Please enter a valid option\")\n"
   ]
  },
  {
   "cell_type": "code",
   "execution_count": 5,
   "metadata": {},
   "outputs": [
    {
     "name": "stdout",
     "output_type": "stream",
     "text": [
      "What pokemon do you have? pikachu\n",
      "pikachu data has been updated!\n"
     ]
    },
    {
     "data": {
      "text/html": [
       "<img src=\"https://raw.githubusercontent.com/PokeAPI/sprites/master/sprites/pokemon/shiny/25.png\"/>"
      ],
      "text/plain": [
       "<IPython.core.display.Image object>"
      ]
     },
     "metadata": {},
     "output_type": "display_data"
    },
    {
     "name": "stdout",
     "output_type": "stream",
     "text": [
      "Would you like to learn a move? yes\n",
      "What move would you like to learn?thunder\n",
      "['thunder']\n",
      "Would you like to learn a move? thunderbolt\n",
      "Please enter a valid option\n",
      "Would you like to learn a move? yes\n",
      "What move would you like to learn?thunderbolt\n",
      "['thunder', 'thunderbolt']\n",
      "Would you like to learn a move? yes\n",
      "What move would you like to learn?charm\n",
      "['thunder', 'thunderbolt', 'charm']\n",
      "Would you like to learn a move? yes\n",
      "What move would you like to learn?spark\n",
      "['thunder', 'thunderbolt', 'charm', 'spark']\n",
      "Would you like to learn a move? yes\n",
      "What move would you like to learn?quick-attack\n",
      "You already know 4 moves, would you like to forget one? yes\n",
      "['thunder', 'thunderbolt', 'charm', 'spark']\n",
      "Which move would you like to forget? type 'q' to back outq\n",
      "Would you like to learn a move? yes\n",
      "What move would you like to learn?thunder-punch\n",
      "You already know 4 moves, would you like to forget one? yes\n",
      "['thunder', 'thunderbolt', 'charm', 'spark']\n",
      "Which move would you like to forget? type 'q' to back outspark\n",
      "['thunder', 'thunderbolt', 'charm', 'thunder-punch']\n",
      "Would you like to learn a move? no\n"
     ]
    }
   ],
   "source": [
    "# charmander = Pokemon(\"charmander\")\n",
    "# charmander.move_1()\n",
    "# charmander.learned_move()\n",
    "run()"
   ]
  },
  {
   "cell_type": "code",
   "execution_count": null,
   "metadata": {},
   "outputs": [],
   "source": [
    "import requests\n",
    "class Pokemon"
   ]
  },
  {
   "cell_type": "code",
   "execution_count": null,
   "metadata": {},
   "outputs": [],
   "source": [
    "pikachu.teach_move()\n"
   ]
  },
  {
   "cell_type": "code",
   "execution_count": null,
   "metadata": {},
   "outputs": [],
   "source": [
    "pikachu.show_moves()"
   ]
  }
 ],
 "metadata": {
  "kernelspec": {
   "display_name": "Python 3 (ipykernel)",
   "language": "python",
   "name": "python3"
  },
  "language_info": {
   "codemirror_mode": {
    "name": "ipython",
    "version": 3
   },
   "file_extension": ".py",
   "mimetype": "text/x-python",
   "name": "python",
   "nbconvert_exporter": "python",
   "pygments_lexer": "ipython3",
   "version": "3.9.12"
  }
 },
 "nbformat": 4,
 "nbformat_minor": 4
}
